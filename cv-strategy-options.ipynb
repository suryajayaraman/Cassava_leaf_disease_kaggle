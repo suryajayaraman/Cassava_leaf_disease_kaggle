{
 "cells": [
  {
   "cell_type": "markdown",
   "metadata": {},
   "source": [
    "## Reference\n",
    "\n",
    "Custom Dataset classes in pytorch\n",
    "https://pytorch.org/tutorials/beginner/data_loading_tutorial.html\n",
    "\n",
    "k-Fold validation pytorch\n",
    "--\n",
    "1. https://stackoverflow.com/questions/58996242/cross-validation-for-mnist-dataset-with-pytorch-and-sklearn\n",
    "2. https://discuss.pytorch.org/t/i-need-help-in-this-k-fold-cross-validation-implementation/90705/5\n",
    "3. https://github.com/buomsoo-kim/PyTorch-learners-tutorial/blob/master/PyTorch%20Basics/pytorch-datasets-2.ipynb\n",
    "\n",
    "\n",
    "kFold split sklearn\n",
    "--\n",
    "1. sklearn.model_selection.KFold -  normal ordered splits without any shuffle by default. \n",
    "2. sklearn.model_selection.StratifiedKFold - tries to preserve the distribution of each class in each set\n",
    "3. GroupKFold - ensures the group of data is not repeated in any fold; little complex concept\n",
    "4. RepeatedKFold - repeat kfold n times with different random state each instance"
   ]
  },
  {
   "cell_type": "code",
   "execution_count": null,
   "metadata": {},
   "outputs": [],
   "source": [
    "#!pip install -U skorch"
   ]
  },
  {
   "cell_type": "markdown",
   "metadata": {},
   "source": [
    "## Library imports"
   ]
  },
  {
   "cell_type": "code",
   "execution_count": 1,
   "metadata": {},
   "outputs": [],
   "source": [
    "# common imports\n",
    "import os\n",
    "import random\n",
    "import warnings\n",
    "warnings.filterwarnings(\"ignore\")\n",
    "import numpy as np\n",
    "import pandas as pd\n",
    "from PIL import Image\n",
    "from tqdm import tqdm\n",
    "#import math\n",
    "#import time\n",
    "#from skimage import io, transform\n",
    "#from typing import Dict\n",
    "#from pathlib import Path\n",
    "\n",
    "# interactive plot libraries\n",
    "import matplotlib.pyplot as plt\n",
    "import seaborn as sns\n",
    "#from plotly.offline import init_notebook_mode, iplot # download_plotlyjs, plot\n",
    "#import plotly.graph_objs as go\n",
    "#from plotly.subplots import make_subplots\n",
    "#init_notebook_mode(connected=True)\n",
    "\n",
    "# torch imports\n",
    "import torch\n",
    "from torch import nn, optim\n",
    "from torch.utils.data import Dataset, DataLoader\n",
    "from torchvision import transforms, models\n",
    "from torchvision.models.resnet import resnet50, resnet18, resnet34, resnet101\n",
    "import torch.nn.functional as F\n",
    "\n",
    "\n",
    "# sklearn related imports\n",
    "# import skorch #sklearn + pytorch functionalitites\n",
    "from sklearn.model_selection import KFold, StratifiedKFold\n",
    "from skorch import NeuralNetClassifier\n",
    "from sklearn.model_selection import cross_val_score\n",
    "\n",
    "#import skorch\n",
    "#from skorch.callbacks import Checkpoint\n",
    "#from skorch.callbacks import Freezer\n",
    "#from skorch.helper import predefined_split"
   ]
  },
  {
   "cell_type": "markdown",
   "metadata": {},
   "source": [
    "## Config files"
   ]
  },
  {
   "cell_type": "code",
   "execution_count": 2,
   "metadata": {},
   "outputs": [],
   "source": [
    "cfg = {\n",
    "    'train_img_path': \"cassava-leaf-disease-classification/train_images/\",\n",
    "    'train_csv_path': 'cassava-leaf-disease-classification/train.csv',\n",
    "    \n",
    "    'model_params': {\n",
    "        'model_architecture': 'resnet18', 'model_name': \"R18_pretrain_imagenet\",\n",
    "        'lr': 1e-4, 'weight_path': \"\", \n",
    "        'lr_find' : 0, 'train': 1, 'validate': 0,'test': 0 },\n",
    "\n",
    "    'train_data_loader': { 'batch_size': 16, 'shuffle': False, 'num_workers': 4 },\n",
    "    \n",
    "    'val_data_loader': {'batch_size': 16, 'shuffle': False, 'num_workers': 4 },\n",
    "\n",
    "    'test_data_loader': {'batch_size': 32, 'shuffle': False, 'num_workers': 4 },\n",
    "\n",
    "    'train_params': {'train_start_batch_index' : 117001, 'max_num_steps': 11, 'checkpoint_every_n_steps': 5 } }"
   ]
  },
  {
   "cell_type": "code",
   "execution_count": 3,
   "metadata": {},
   "outputs": [],
   "source": [
    "index_label_map = {\n",
    "                0: \"Cassava Bacterial Blight (CBB)\", \n",
    "                1: \"Cassava Brown Streak Disease (CBSD)\",\n",
    "                2: \"Cassava Green Mottle (CGM)\", \n",
    "                3: \"Cassava Mosaic Disease (CMD)\", \n",
    "                4: \"Healthy\"\n",
    "                }"
   ]
  },
  {
   "cell_type": "markdown",
   "metadata": {},
   "source": [
    "## Helper functions"
   ]
  },
  {
   "cell_type": "code",
   "execution_count": 4,
   "metadata": {},
   "outputs": [],
   "source": [
    "def find_no_of_trainable_params(model):\n",
    "    total_trainable_params = sum(p.numel() for p in model.parameters() if p.requires_grad)\n",
    "    #print(total_trainable_params)\n",
    "    return total_trainable_params"
   ]
  },
  {
   "cell_type": "code",
   "execution_count": 5,
   "metadata": {},
   "outputs": [],
   "source": [
    "def set_seed(seed):\n",
    "    random.seed(seed)\n",
    "    np.random.seed(seed)\n",
    "    os.environ[\"PYTHONHASHSEED\"] = str(seed)\n",
    "    torch.manual_seed(seed)\n",
    "    torch.cuda.manual_seed(seed)\n",
    "    \n",
    "RANDOM_STATE = 42\n",
    "set_seed(RANDOM_STATE)"
   ]
  },
  {
   "cell_type": "code",
   "execution_count": 6,
   "metadata": {},
   "outputs": [],
   "source": [
    "df = pd.read_csv(cfg['train_csv_path'])"
   ]
  },
  {
   "cell_type": "code",
   "execution_count": 7,
   "metadata": {},
   "outputs": [],
   "source": [
    "#print(df.columns)\n",
    "y = df['label'].values\n",
    "X = np.zeros(y.shape)\n",
    "skf = StratifiedKFold(n_splits=3, shuffle=True, random_state=RANDOM_STATE)"
   ]
  },
  {
   "cell_type": "code",
   "execution_count": 8,
   "metadata": {},
   "outputs": [
    {
     "name": "stdout",
     "output_type": "stream",
     "text": [
      "0 split , Train idx len = 14264, Test idx len = 7133\n",
      "1 split , Train idx len = 14265, Test idx len = 7132\n",
      "2 split , Train idx len = 14265, Test idx len = 7132\n"
     ]
    }
   ],
   "source": [
    "split_data = {}\n",
    "for idx, (train_idx, test_idx) in enumerate(skf.split(X,y)):\n",
    "    print (f'{idx} split , Train idx len = {len(train_idx)}, Test idx len = {len(test_idx)}')\n",
    "    split_data['split' + str(idx+1) + '_train'] = np.bincount(y[train_idx])\n",
    "    split_data['split' + str(idx+1) + '_test'] = np.bincount(y[test_idx])"
   ]
  },
  {
   "cell_type": "code",
   "execution_count": 9,
   "metadata": {},
   "outputs": [
    {
     "data": {
      "text/html": [
       "<div>\n",
       "<style scoped>\n",
       "    .dataframe tbody tr th:only-of-type {\n",
       "        vertical-align: middle;\n",
       "    }\n",
       "\n",
       "    .dataframe tbody tr th {\n",
       "        vertical-align: top;\n",
       "    }\n",
       "\n",
       "    .dataframe thead th {\n",
       "        text-align: right;\n",
       "    }\n",
       "</style>\n",
       "<table border=\"1\" class=\"dataframe\">\n",
       "  <thead>\n",
       "    <tr style=\"text-align: right;\">\n",
       "      <th></th>\n",
       "      <th>split1_train</th>\n",
       "      <th>split1_test</th>\n",
       "      <th>split2_train</th>\n",
       "      <th>split2_test</th>\n",
       "      <th>split3_train</th>\n",
       "      <th>split3_test</th>\n",
       "    </tr>\n",
       "  </thead>\n",
       "  <tbody>\n",
       "    <tr>\n",
       "      <th>Cassava Bacterial Blight (CBB)</th>\n",
       "      <td>724</td>\n",
       "      <td>363</td>\n",
       "      <td>725</td>\n",
       "      <td>362</td>\n",
       "      <td>725</td>\n",
       "      <td>362</td>\n",
       "    </tr>\n",
       "    <tr>\n",
       "      <th>Cassava Brown Streak Disease (CBSD)</th>\n",
       "      <td>1460</td>\n",
       "      <td>729</td>\n",
       "      <td>1459</td>\n",
       "      <td>730</td>\n",
       "      <td>1459</td>\n",
       "      <td>730</td>\n",
       "    </tr>\n",
       "    <tr>\n",
       "      <th>Cassava Green Mottle (CGM)</th>\n",
       "      <td>1590</td>\n",
       "      <td>796</td>\n",
       "      <td>1591</td>\n",
       "      <td>795</td>\n",
       "      <td>1591</td>\n",
       "      <td>795</td>\n",
       "    </tr>\n",
       "    <tr>\n",
       "      <th>Cassava Mosaic Disease (CMD)</th>\n",
       "      <td>8772</td>\n",
       "      <td>4386</td>\n",
       "      <td>8772</td>\n",
       "      <td>4386</td>\n",
       "      <td>8772</td>\n",
       "      <td>4386</td>\n",
       "    </tr>\n",
       "    <tr>\n",
       "      <th>Healthy</th>\n",
       "      <td>1718</td>\n",
       "      <td>859</td>\n",
       "      <td>1718</td>\n",
       "      <td>859</td>\n",
       "      <td>1718</td>\n",
       "      <td>859</td>\n",
       "    </tr>\n",
       "  </tbody>\n",
       "</table>\n",
       "</div>"
      ],
      "text/plain": [
       "                                     split1_train  split1_test  split2_train  \\\n",
       "Cassava Bacterial Blight (CBB)                724          363           725   \n",
       "Cassava Brown Streak Disease (CBSD)          1460          729          1459   \n",
       "Cassava Green Mottle (CGM)                   1590          796          1591   \n",
       "Cassava Mosaic Disease (CMD)                 8772         4386          8772   \n",
       "Healthy                                      1718          859          1718   \n",
       "\n",
       "                                     split2_test  split3_train  split3_test  \n",
       "Cassava Bacterial Blight (CBB)               362           725          362  \n",
       "Cassava Brown Streak Disease (CBSD)          730          1459          730  \n",
       "Cassava Green Mottle (CGM)                   795          1591          795  \n",
       "Cassava Mosaic Disease (CMD)                4386          8772         4386  \n",
       "Healthy                                      859          1718          859  "
      ]
     },
     "execution_count": 9,
     "metadata": {},
     "output_type": "execute_result"
    }
   ],
   "source": [
    "test_df = pd.DataFrame.from_dict(split_data)\n",
    "test_df.index = test_df.index.map(index_label_map)\n",
    "test_df"
   ]
  }
 ],
 "metadata": {
  "kernelspec": {
   "display_name": "Python(lyft_kaggle)",
   "language": "python",
   "name": "lyft"
  },
  "language_info": {
   "codemirror_mode": {
    "name": "ipython",
    "version": 3
   },
   "file_extension": ".py",
   "mimetype": "text/x-python",
   "name": "python",
   "nbconvert_exporter": "python",
   "pygments_lexer": "ipython3",
   "version": "3.6.12"
  }
 },
 "nbformat": 4,
 "nbformat_minor": 4
}
