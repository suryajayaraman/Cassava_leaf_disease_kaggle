{
 "cells": [
  {
   "cell_type": "markdown",
   "metadata": {
    "papermill": {
     "duration": 0.013021,
     "end_time": "2020-11-20T07:49:33.328421",
     "exception": false,
     "start_time": "2020-11-20T07:49:33.315400",
     "status": "completed"
    },
    "tags": []
   },
   "source": [
    "# Cassava Classification - PyTorch Starter (Train)"
   ]
  },
  {
   "cell_type": "markdown",
   "metadata": {},
   "source": [
    "## Library imports"
   ]
  },
  {
   "cell_type": "code",
   "execution_count": null,
   "metadata": {
    "_cell_guid": "79c7e3d0-c299-4dcb-8224-4455121ee9b0",
    "_uuid": "d629ff2d2480ee46fbb7e2d37f6b5fab8052498a",
    "execution": {
     "iopub.execute_input": "2020-11-20T07:49:33.361273Z",
     "iopub.status.busy": "2020-11-20T07:49:33.360454Z",
     "iopub.status.idle": "2020-11-20T07:49:38.340877Z",
     "shell.execute_reply": "2020-11-20T07:49:38.340239Z"
    },
    "papermill": {
     "duration": 5.000532,
     "end_time": "2020-11-20T07:49:38.340989",
     "exception": false,
     "start_time": "2020-11-20T07:49:33.340457",
     "status": "completed"
    },
    "tags": []
   },
   "outputs": [],
   "source": [
    "import os\n",
    "import numpy as np\n",
    "import pandas as pd\n",
    "\n",
    "import albumentations as A\n",
    "import cv2\n",
    "\n",
    "import torch\n",
    "import torch.nn as nn\n",
    "import torch.nn.functional as F\n",
    "import torchvision\n",
    "import torch.optim as optim\n",
    "\n",
    "from tqdm.notebook import tqdm\n",
    "from torch.utils.data import Dataset, DataLoader\n",
    "from albumentations.pytorch import ToTensorV2\n",
    "\n",
    "from sklearn.metrics import accuracy_score\n",
    "from sklearn.model_selection import KFold, StratifiedKFold\n",
    "\n",
    "import plotly.express as px\n",
    "import plotly.graph_objects as go\n",
    "from plotly.subplots import make_subplots\n",
    "\n",
    "import warnings  \n",
    "warnings.filterwarnings('ignore')"
   ]
  },
  {
   "cell_type": "markdown",
   "metadata": {},
   "source": [
    "## Config files"
   ]
  },
  {
   "cell_type": "code",
   "execution_count": null,
   "metadata": {},
   "outputs": [],
   "source": [
    "pipeline = {'train' : True, 'lr_find' : False, 'validate' : False, 'test' : False, 'DEBUG' : False}\n",
    "model_cfg = {'model_architecture': 'resnet18', 'model_name': 'R18_imagenet_v2',\n",
    "             'init_lr': 4e-4, 'weight_path': ''}\n",
    "\n",
    "train_cfg = {'batch_size': 16, 'shuffle': False, 'num_workers': 4, 'checkpt_every' : 1 }\n",
    "valid_cfg = {'batch_size': 16, 'shuffle': False, 'num_workers': 4, 'validate_every' : 1 }\n",
    "test_cfg  = {'batch_size': 16, 'shuffle': False, 'num_workers': 4}\n",
    "\n",
    "DIR_INPUT = '../cassava-leaf-disease-classification'\n",
    "SEED = 42\n",
    "N_FOLDS = 2 #if pipeline['DEBUG'] else 5\n",
    "N_EPOCHS = 2 #if pipeline['DEBUG'] else 10\n",
    "BATCH_SIZE = 16\n",
    "SIZE = 256"
   ]
  },
  {
   "cell_type": "code",
   "execution_count": null,
   "metadata": {},
   "outputs": [],
   "source": [
    "index_label_map = {\n",
    "                0: \"Cassava Bacterial Blight (CBB)\", \n",
    "                1: \"Cassava Brown Streak Disease (CBSD)\",\n",
    "                2: \"Cassava Green Mottle (CGM)\", \n",
    "                3: \"Cassava Mosaic Disease (CMD)\", \n",
    "                4: \"Healthy\"\n",
    "                }"
   ]
  },
  {
   "cell_type": "markdown",
   "metadata": {},
   "source": [
    "## Helper functions"
   ]
  },
  {
   "cell_type": "code",
   "execution_count": null,
   "metadata": {},
   "outputs": [],
   "source": [
    "def find_no_of_trainable_params(model):\n",
    "    total_trainable_params = sum(p.numel() for p in model.parameters() if p.requires_grad)\n",
    "    #print(total_trainable_params)\n",
    "    return total_trainable_params"
   ]
  },
  {
   "cell_type": "code",
   "execution_count": null,
   "metadata": {},
   "outputs": [],
   "source": [
    "def set_seed(seed):\n",
    "    random.seed(seed)\n",
    "    np.random.seed(seed)\n",
    "    os.environ[\"PYTHONHASHSEED\"] = str(seed)\n",
    "    torch.manual_seed(seed)\n",
    "    torch.cuda.manual_seed(seed)\n",
    "    \n",
    "#RANDOM_STATE = 42\n",
    "#set_seed(RANDOM_STATE)"
   ]
  },
  {
   "cell_type": "markdown",
   "metadata": {},
   "source": [
    "## Dataset "
   ]
  },
  {
   "cell_type": "code",
   "execution_count": null,
   "metadata": {
    "execution": {
     "iopub.execute_input": "2020-11-20T07:49:38.578506Z",
     "iopub.status.busy": "2020-11-20T07:49:38.577513Z",
     "iopub.status.idle": "2020-11-20T07:49:38.655931Z",
     "shell.execute_reply": "2020-11-20T07:49:38.657324Z"
    },
    "papermill": {
     "duration": 0.140183,
     "end_time": "2020-11-20T07:49:38.657516",
     "exception": false,
     "start_time": "2020-11-20T07:49:38.517333",
     "status": "completed"
    },
    "tags": []
   },
   "outputs": [],
   "source": [
    "train_df = pd.read_csv(f'{DIR_INPUT}/train.csv')\n",
    "train_df[['cls0', 'cls1', 'cls2', 'cls3', 'cls4']] = train_labels = pd.get_dummies(train_df.iloc[:, 1])\n",
    "\n",
    "# For debugging.\n",
    "if pipeline['DEBUG']:\n",
    "    train_df = train_df.sample(n=200)\n",
    "    train_df.reset_index(drop=True, inplace=True)\n",
    "\n",
    "train_labels = train_df.iloc[:, 1].values\n",
    "\n",
    "train_df.head()"
   ]
  },
  {
   "cell_type": "code",
   "execution_count": null,
   "metadata": {},
   "outputs": [],
   "source": [
    "train_df.shape"
   ]
  },
  {
   "cell_type": "code",
   "execution_count": null,
   "metadata": {
    "execution": {
     "iopub.execute_input": "2020-11-20T07:49:38.405054Z",
     "iopub.status.busy": "2020-11-20T07:49:38.404138Z",
     "iopub.status.idle": "2020-11-20T07:49:38.407181Z",
     "shell.execute_reply": "2020-11-20T07:49:38.406559Z"
    },
    "papermill": {
     "duration": 0.024286,
     "end_time": "2020-11-20T07:49:38.407297",
     "exception": false,
     "start_time": "2020-11-20T07:49:38.383011",
     "status": "completed"
    },
    "tags": []
   },
   "outputs": [],
   "source": [
    "class CassavaDataset(Dataset):\n",
    "    \n",
    "    def __init__(self, df, dataset='train', transforms=None):\n",
    "    \n",
    "        self.df = df\n",
    "        self.transforms=transforms\n",
    "        self.dataset=dataset\n",
    "        \n",
    "    def __len__(self):\n",
    "        return self.df.shape[0]\n",
    "    \n",
    "    def __getitem__(self, idx):\n",
    "        image_src = f'{DIR_INPUT}/{self.dataset}_images/{self.df.loc[idx, \"image_id\"]}'\n",
    "        # print(image_src)\n",
    "        image = cv2.imread(image_src, cv2.IMREAD_COLOR)\n",
    "        image = cv2.cvtColor(image, cv2.COLOR_BGR2RGB)\n",
    "\n",
    "        # label = self.df.loc[idx, 'label']\n",
    "        labels = self.df.loc[idx, ['cls0', 'cls1', 'cls2', 'cls3', 'cls4']].values\n",
    "        labels = torch.from_numpy(labels.astype(np.int8))\n",
    "        labels = labels.unsqueeze(-1)\n",
    "        \n",
    "        if self.transforms:\n",
    "            transformed = self.transforms(image=image)\n",
    "            image = transformed['image']\n",
    "\n",
    "        return image, labels"
   ]
  },
  {
   "cell_type": "markdown",
   "metadata": {},
   "source": [
    "## Transforms for Augumentations"
   ]
  },
  {
   "cell_type": "code",
   "execution_count": null,
   "metadata": {
    "execution": {
     "iopub.execute_input": "2020-11-20T07:49:38.496406Z",
     "iopub.status.busy": "2020-11-20T07:49:38.495298Z",
     "iopub.status.idle": "2020-11-20T07:49:38.500954Z",
     "shell.execute_reply": "2020-11-20T07:49:38.500432Z"
    },
    "papermill": {
     "duration": 0.032811,
     "end_time": "2020-11-20T07:49:38.501054",
     "exception": false,
     "start_time": "2020-11-20T07:49:38.468243",
     "status": "completed"
    },
    "tags": []
   },
   "outputs": [],
   "source": [
    "transforms_train = A.Compose([\n",
    "    A.RandomResizedCrop(height=SIZE, width=SIZE, p=1.0),\n",
    "    A.Flip(),\n",
    "    A.ShiftScaleRotate(rotate_limit=1.0, p=0.8),\n",
    "\n",
    "    A.Normalize(p=1.0),\n",
    "    ToTensorV2(p=1.0),\n",
    "])\n",
    "\n",
    "transforms_valid = A.Compose([\n",
    "    A.Resize(height=SIZE, width=SIZE, p=1.0),\n",
    "    A.Normalize(p=1.0),\n",
    "    ToTensorV2(p=1.0),\n",
    "])"
   ]
  },
  {
   "cell_type": "markdown",
   "metadata": {},
   "source": [
    "## CV strategy"
   ]
  },
  {
   "cell_type": "code",
   "execution_count": null,
   "metadata": {
    "execution": {
     "iopub.execute_input": "2020-11-20T07:49:38.711579Z",
     "iopub.status.busy": "2020-11-20T07:49:38.710679Z",
     "iopub.status.idle": "2020-11-20T07:49:38.713044Z",
     "shell.execute_reply": "2020-11-20T07:49:38.712347Z"
    },
    "papermill": {
     "duration": 0.031306,
     "end_time": "2020-11-20T07:49:38.713168",
     "exception": false,
     "start_time": "2020-11-20T07:49:38.681862",
     "status": "completed"
    },
    "tags": []
   },
   "outputs": [],
   "source": [
    "folds = StratifiedKFold(n_splits=N_FOLDS, shuffle=True, random_state=SEED)\n",
    "oof_preds = np.zeros((train_df.shape[0],))"
   ]
  },
  {
   "cell_type": "markdown",
   "metadata": {},
   "source": [
    "## Model class"
   ]
  },
  {
   "cell_type": "code",
   "execution_count": null,
   "metadata": {
    "execution": {
     "iopub.execute_input": "2020-11-20T07:49:38.440030Z",
     "iopub.status.busy": "2020-11-20T07:49:38.439273Z",
     "iopub.status.idle": "2020-11-20T07:49:38.445623Z",
     "shell.execute_reply": "2020-11-20T07:49:38.443219Z"
    },
    "papermill": {
     "duration": 0.027733,
     "end_time": "2020-11-20T07:49:38.445758",
     "exception": false,
     "start_time": "2020-11-20T07:49:38.418025",
     "status": "completed"
    },
    "tags": []
   },
   "outputs": [],
   "source": [
    "class CassavaModel(nn.Module):\n",
    "    \n",
    "    def __init__(self, num_classes=5):\n",
    "        super().__init__()\n",
    "        \n",
    "        self.backbone = torchvision.models.resnet18(pretrained=True)\n",
    "        \n",
    "        in_features = self.backbone.fc.in_features\n",
    "\n",
    "        self.logit = nn.Linear(in_features, num_classes)\n",
    "        \n",
    "    def forward(self, x):\n",
    "        batch_size, C, H, W = x.shape\n",
    "        \n",
    "        x = self.backbone.conv1(x)\n",
    "        x = self.backbone.bn1(x)\n",
    "        x = self.backbone.relu(x)\n",
    "        x = self.backbone.maxpool(x)\n",
    "\n",
    "        x = self.backbone.layer1(x)\n",
    "        x = self.backbone.layer2(x)\n",
    "        x = self.backbone.layer3(x)\n",
    "        x = self.backbone.layer4(x)\n",
    "        \n",
    "        x = F.adaptive_avg_pool2d(x,1).reshape(batch_size,-1)\n",
    "        x = F.dropout(x, 0.25, self.training)\n",
    "\n",
    "        x = self.logit(x)\n",
    "\n",
    "        return x"
   ]
  },
  {
   "cell_type": "markdown",
   "metadata": {},
   "source": [
    "## Loss function"
   ]
  },
  {
   "cell_type": "code",
   "execution_count": null,
   "metadata": {
    "execution": {
     "iopub.execute_input": "2020-11-20T07:49:38.755438Z",
     "iopub.status.busy": "2020-11-20T07:49:38.754653Z",
     "iopub.status.idle": "2020-11-20T07:49:38.759335Z",
     "shell.execute_reply": "2020-11-20T07:49:38.760049Z"
    },
    "papermill": {
     "duration": 0.030221,
     "end_time": "2020-11-20T07:49:38.760202",
     "exception": false,
     "start_time": "2020-11-20T07:49:38.729981",
     "status": "completed"
    },
    "tags": []
   },
   "outputs": [],
   "source": [
    "class DenseCrossEntropy(nn.Module):\n",
    "\n",
    "    def __init__(self):\n",
    "        super(DenseCrossEntropy, self).__init__()\n",
    "        \n",
    "        \n",
    "    def forward(self, logits, labels):\n",
    "        logits = logits.float()\n",
    "        labels = labels.float()\n",
    "        \n",
    "        logprobs = F.log_softmax(logits, dim=-1)\n",
    "        \n",
    "        loss = -labels * logprobs\n",
    "        loss = loss.sum(-1)\n",
    "\n",
    "        return loss.mean()"
   ]
  },
  {
   "cell_type": "code",
   "execution_count": null,
   "metadata": {},
   "outputs": [],
   "source": [
    "device = torch.device(\"cuda:0\") if torch.cuda.is_available() else torch.device('cpu')\n",
    "criterion = DenseCrossEntropy()"
   ]
  },
  {
   "cell_type": "markdown",
   "metadata": {},
   "source": [
    "## Lr_find"
   ]
  },
  {
   "cell_type": "code",
   "execution_count": null,
   "metadata": {},
   "outputs": [],
   "source": [
    "def plot_lr_finder_results(lr_finder): \n",
    "    # Create subplot grid\n",
    "    fig = make_subplots(rows=1, cols=2)\n",
    "    # layout ={'title': 'Lr_finder_result'}\n",
    "    \n",
    "    # Create a line (trace) for the lr vs loss, gradient of loss\n",
    "    trace0 = go.Scatter(x=lr_finder['log_lr'], y=lr_finder['smooth_loss'],name='log_lr vs smooth_loss')\n",
    "    trace1 = go.Scatter(x=lr_finder['log_lr'], y=lr_finder['grad_loss'],name='log_lr vs loss gradient')\n",
    "\n",
    "    # Add subplot trace & assign to each grid\n",
    "    fig.add_trace(trace0, row=1, col=1);\n",
    "    fig.add_trace(trace1, row=1, col=2);\n",
    "    #iplot(fig, show_link=False)\n",
    "    fig.write_html(model_cfg['model_name'] + '_lr_find.html');"
   ]
  },
  {
   "cell_type": "code",
   "execution_count": null,
   "metadata": {},
   "outputs": [],
   "source": [
    "def find_lr(data_loader, init_value = 1e-8, final_value=100.0, beta = 0.98, num_batches = 200):\n",
    "    assert(num_batches > 0)\n",
    "    mult = (final_value / init_value) ** (1/num_batches)\n",
    "    lr = init_value\n",
    "    optimizer.param_groups[0]['lr'] = lr\n",
    "    batch_num = 0\n",
    "    avg_loss = 0.0\n",
    "    best_loss = 0.0\n",
    "    smooth_losses = []\n",
    "    raw_losses = []\n",
    "    log_lrs = []\n",
    "    dataloader_it = iter(data_loader)\n",
    "    progress_bar = tqdm(range(num_batches))\n",
    "        \n",
    "    for idx in progress_bar:\n",
    "        batch_num += 1\n",
    "        try:\n",
    "            inputs, labels = next(dataloader_it)\n",
    "        except StopIteration:\n",
    "            dataloader_it = iter(data_loader)\n",
    "            inputs, labels = next(dataloader_it)\n",
    "\n",
    "        # Move input and label tensors to the default device\n",
    "        inputs, labels = inputs.to(device), labels.to(device)\n",
    "        \n",
    "        \n",
    "        # handle exception in criterion\n",
    "        try:\n",
    "            # Forward pass\n",
    "            log_ps = model(inputs)\n",
    "            loss = criterion(log_ps, labels.squeeze(-1))\n",
    "        except:\n",
    "            if len(smooth_losses) > 1:\n",
    "                grad_loss = np.gradient(smooth_losses)\n",
    "            else:\n",
    "                grad_loss = 0.0\n",
    "            lr_finder_results = {'log_lr':log_lrs, 'raw_loss':raw_losses, \n",
    "                                 'smooth_loss':smooth_losses, 'grad_loss': grad_loss}\n",
    "            return lr_finder_results        \n",
    "        \n",
    "        #Compute the smoothed loss\n",
    "        avg_loss = beta * avg_loss + (1-beta) *loss.item()\n",
    "        smoothed_loss = avg_loss / (1 - beta**batch_num)\n",
    "        \n",
    "        #Stop if the loss is exploding\n",
    "        if batch_num > 1 and smoothed_loss > 50 * best_loss:\n",
    "            if len(smooth_losses) > 1:\n",
    "                grad_loss = np.gradient(smooth_losses)\n",
    "            else:\n",
    "                grad_loss = 0.0\n",
    "            lr_finder_results = {'log_lr':log_lrs, 'raw_loss':raw_losses, \n",
    "                                 'smooth_loss':smooth_losses, 'grad_loss': grad_loss}\n",
    "            return lr_finder_results\n",
    "        \n",
    "        #Record the best loss\n",
    "        if smoothed_loss < best_loss or batch_num==1:\n",
    "            best_loss = smoothed_loss\n",
    "        \n",
    "        #Store the values\n",
    "        raw_losses.append(loss.item())\n",
    "        smooth_losses.append(smoothed_loss)\n",
    "        log_lrs.append(math.log10(lr))\n",
    "        \n",
    "        # Backward pass\n",
    "        optimizer.zero_grad()\n",
    "        loss.backward()\n",
    "        optimizer.step()\n",
    "        \n",
    "        # print info\n",
    "        progress_bar.set_description(f\"loss: {loss.item()},smoothed_loss: {smoothed_loss},lr : {lr}\")\n",
    "\n",
    "        #Update the lr for the next step\n",
    "        lr *= mult\n",
    "        optimizer.param_groups[0]['lr'] = lr\n",
    "    \n",
    "    grad_loss = np.gradient(smooth_losses)\n",
    "    lr_finder_results = {'log_lr':log_lrs, 'raw_loss':raw_losses, \n",
    "                         'smooth_loss':smooth_losses, 'grad_loss': grad_loss}\n",
    "    return lr_finder_results"
   ]
  },
  {
   "cell_type": "markdown",
   "metadata": {},
   "source": [
    "## one fold train and validate function"
   ]
  },
  {
   "cell_type": "code",
   "execution_count": null,
   "metadata": {
    "execution": {
     "iopub.execute_input": "2020-11-20T07:49:38.805780Z",
     "iopub.status.busy": "2020-11-20T07:49:38.804867Z",
     "iopub.status.idle": "2020-11-20T07:49:38.824741Z",
     "shell.execute_reply": "2020-11-20T07:49:38.825868Z"
    },
    "papermill": {
     "duration": 0.048245,
     "end_time": "2020-11-20T07:49:38.826028",
     "exception": false,
     "start_time": "2020-11-20T07:49:38.777783",
     "status": "completed"
    },
    "tags": []
   },
   "outputs": [],
   "source": [
    "def train_one_fold(i_fold, model, optimizer, dataloader_train, dataloader_valid):\n",
    "    \n",
    "    train_fold_results = []\n",
    "\n",
    "    for epoch in range(N_EPOCHS):\n",
    "        print('  Epoch {}/{}'.format(epoch + 1, N_EPOCHS))\n",
    "        model.train()\n",
    "        tr_loss = 0\n",
    "        \n",
    "        # training iterator\n",
    "        tr_iterator = iter(dataloader_train)\n",
    "        train_progress_bar = tqdm(range(len(dataloader_train)))\n",
    "    \n",
    "        for idx in train_progress_bar:\n",
    "            try:\n",
    "                images, labels = next(tr_iterator)\n",
    "            except StopIteration:\n",
    "                tr_iterator = iter(dataloader_train)\n",
    "                images, labels = next(tr_iterator)\n",
    "\n",
    "            images = images.to(device, dtype=torch.float)\n",
    "            labels = labels.to(device, dtype=torch.float)\n",
    "            \n",
    "            # Forward pass\n",
    "            outputs = model(images)\n",
    "\n",
    "            # Backward pass\n",
    "            loss = criterion(outputs, labels.squeeze(-1))                \n",
    "            tr_loss += loss.item()\n",
    "            loss.backward()\n",
    "            optimizer.step()\n",
    "            optimizer.zero_grad()\n",
    "\n",
    "            # print to console\n",
    "            train_progress_bar.set_description(f\"Train_loss: {tr_loss} loss(avg): {tr_loss/(idx+1)}\")\n",
    "\n",
    "        # Validate\n",
    "        model.eval()\n",
    "        val_loss = 0.0\n",
    "        val_preds = None\n",
    "        val_labels = None\n",
    "        \n",
    "        valid_iterator = iter(dataloader_valid)\n",
    "        valid_progress_bar = tqdm(range(len(dataloader_valid)))\n",
    "\n",
    "        for idx in valid_progress_bar:\n",
    "            try:\n",
    "                images, labels = next(valid_iterator)\n",
    "            except StopIteration:\n",
    "                tr_iterator = iter(dataloader_valid)\n",
    "                images, labels = next(valid_iterator)\n",
    "\n",
    "            if val_labels is None:\n",
    "                val_labels = labels.clone().squeeze(-1)\n",
    "            else:\n",
    "                val_labels = torch.cat((val_labels, labels.squeeze(-1)), dim=0)\n",
    "\n",
    "            images = images.to(device, dtype=torch.float)\n",
    "            labels = labels.to(device, dtype=torch.float)\n",
    "\n",
    "            with torch.no_grad():\n",
    "                outputs = model(images)\n",
    "\n",
    "                loss = criterion(outputs, labels.squeeze(-1))\n",
    "                val_loss += loss.item()\n",
    "\n",
    "                preds = torch.softmax(outputs, dim=1).data.cpu()\n",
    "\n",
    "                if val_preds is None:\n",
    "                    val_preds = preds\n",
    "                else:\n",
    "                    val_preds = torch.cat((val_preds, preds), dim=0)\n",
    "            \n",
    "            # print to console\n",
    "            valid_progress_bar.set_description(f\"val_loss: {val_loss} loss(avg): {val_loss/(idx+1)}\")\n",
    "\n",
    "        \n",
    "        val_preds = torch.argmax(val_preds, dim=1)\n",
    "\n",
    "        train_fold_results.append({\n",
    "            'fold': i_fold,\n",
    "            'epoch': epoch,\n",
    "            'train_loss': tr_loss / len(dataloader_train),\n",
    "            'valid_loss': val_loss / len(dataloader_valid),\n",
    "            'valid_score': accuracy_score(torch.argmax(val_labels, dim=1), val_preds)\n",
    "        })\n",
    "\n",
    "    return val_preds, train_fold_results"
   ]
  },
  {
   "cell_type": "code",
   "execution_count": null,
   "metadata": {
    "execution": {
     "iopub.execute_input": "2020-11-20T07:49:38.870498Z",
     "iopub.status.busy": "2020-11-20T07:49:38.869688Z",
     "iopub.status.idle": "2020-11-20T11:00:03.095416Z",
     "shell.execute_reply": "2020-11-20T11:00:03.096102Z"
    },
    "papermill": {
     "duration": 11424.253057,
     "end_time": "2020-11-20T11:00:03.096334",
     "exception": false,
     "start_time": "2020-11-20T07:49:38.843277",
     "status": "completed"
    },
    "tags": []
   },
   "outputs": [],
   "source": [
    "submissions = None\n",
    "train_results = []\n",
    "\n",
    "for i_fold, (train_idx, valid_idx) in enumerate(folds.split(train_df, train_labels)):\n",
    "    print(\"Fold {}/{}\".format(i_fold + 1, N_FOLDS))\n",
    "\n",
    "    valid = train_df.iloc[valid_idx]\n",
    "    valid.reset_index(drop=True, inplace=True)\n",
    "\n",
    "    train = train_df.iloc[train_idx]\n",
    "    train.reset_index(drop=True, inplace=True)    \n",
    "\n",
    "    dataset_train = CassavaDataset(df=train, dataset='train', transforms=transforms_train)\n",
    "    dataset_valid = CassavaDataset(df=valid, dataset='train', transforms=transforms_valid)\n",
    "\n",
    "    dataloader_train = DataLoader(dataset_train, batch_size=BATCH_SIZE, num_workers=4, shuffle=True)\n",
    "    dataloader_valid = DataLoader(dataset_valid, batch_size=BATCH_SIZE, num_workers=4, shuffle=False)\n",
    "\n",
    "    model = CassavaModel(num_classes=5)\n",
    "    model.to(device)\n",
    "\n",
    "    plist = [{'params': model.parameters(), 'lr': 1e-5}]\n",
    "    optimizer = optim.Adam(plist, lr=5e-5)\n",
    "    \n",
    "    val_preds, train_fold_results = train_one_fold(i_fold, model, optimizer, dataloader_train, dataloader_valid)\n",
    "    oof_preds[valid_idx] = val_preds.numpy()\n",
    "    \n",
    "    train_results = train_results + train_fold_results\n",
    "    \n",
    "    torch.save({\n",
    "        'fold': i_fold,\n",
    "        'lr': optimizer.state_dict()[\"param_groups\"][0]['lr'],\n",
    "        'model_state_dict': model.cpu().state_dict(),\n",
    "        'optimizer_state_dict': optimizer.state_dict(),\n",
    "        # 'scheduler_state_dict'\n",
    "        # 'scaler_state_dict'\n",
    "    }, f\"model_state_fold_{i_fold}.pth\")\n",
    "\n",
    "print(\"{}-Folds CV score: {:.4f}\".format(N_FOLDS, accuracy_score(train_labels, oof_preds)))"
   ]
  },
  {
   "cell_type": "code",
   "execution_count": null,
   "metadata": {
    "papermill": {
     "duration": 0.016543,
     "end_time": "2020-11-20T11:00:03.131157",
     "exception": false,
     "start_time": "2020-11-20T11:00:03.114614",
     "status": "completed"
    },
    "tags": []
   },
   "outputs": [],
   "source": [
    "# Show train history"
   ]
  },
  {
   "cell_type": "code",
   "execution_count": null,
   "metadata": {
    "_kg_hide-output": true,
    "execution": {
     "iopub.execute_input": "2020-11-20T11:00:03.254336Z",
     "iopub.status.busy": "2020-11-20T11:00:03.253434Z",
     "iopub.status.idle": "2020-11-20T11:00:03.279422Z",
     "shell.execute_reply": "2020-11-20T11:00:03.276855Z"
    },
    "papermill": {
     "duration": 0.121489,
     "end_time": "2020-11-20T11:00:03.279570",
     "exception": false,
     "start_time": "2020-11-20T11:00:03.158081",
     "status": "completed"
    },
    "tags": []
   },
   "outputs": [],
   "source": [
    "train_results = pd.DataFrame(train_results)\n",
    "train_results.head(10)"
   ]
  },
  {
   "cell_type": "code",
   "execution_count": null,
   "metadata": {
    "_kg_hide-input": true,
    "execution": {
     "iopub.execute_input": "2020-11-20T11:00:03.353913Z",
     "iopub.status.busy": "2020-11-20T11:00:03.352957Z",
     "iopub.status.idle": "2020-11-20T11:00:03.626748Z",
     "shell.execute_reply": "2020-11-20T11:00:03.627900Z"
    },
    "papermill": {
     "duration": 0.310019,
     "end_time": "2020-11-20T11:00:03.628093",
     "exception": false,
     "start_time": "2020-11-20T11:00:03.318074",
     "status": "completed"
    },
    "tags": []
   },
   "outputs": [],
   "source": [
    "fig = make_subplots(rows=2, cols=1)\n",
    "\n",
    "colors = [\n",
    "    ('#d32f2f', '#ef5350'),\n",
    "    ('#303f9f', '#5c6bc0'),\n",
    "    ('#00796b', '#26a69a'),\n",
    "    ('#fbc02d', '#ffeb3b'),\n",
    "    ('#5d4037', '#8d6e63'),\n",
    "]\n",
    "\n",
    "for i in range(N_FOLDS):\n",
    "    data = train_results[train_results['fold'] == i]\n",
    "\n",
    "    fig.add_trace(go.Scatter(x=data['epoch'].values,\n",
    "                             y=data['train_loss'].values,\n",
    "                             mode='lines',\n",
    "                             visible='legendonly' if i > 0 else True,\n",
    "                             line=dict(color=colors[i][0], width=2),\n",
    "                             name='Train loss - Fold #{}'.format(i)),\n",
    "                 row=1, col=1)\n",
    "\n",
    "    fig.add_trace(go.Scatter(x=data['epoch'],\n",
    "                             y=data['valid_loss'].values,\n",
    "                             mode='lines+markers',\n",
    "                             visible='legendonly' if i > 0 else True,\n",
    "                             line=dict(color=colors[i][1], width=2),\n",
    "                             name='Valid loss - Fold #{}'.format(i)),\n",
    "                 row=1, col=1)\n",
    "    \n",
    "    fig.add_trace(go.Scatter(x=data['epoch'].values,\n",
    "                             y=data['valid_score'].values,\n",
    "                             mode='lines+markers',\n",
    "                             line=dict(color=colors[i][0], width=2),\n",
    "                             name='Valid score - Fold #{}'.format(i),\n",
    "                             showlegend=False),\n",
    "                 row=2, col=1)\n",
    "\n",
    "fig.update_layout({\n",
    "  \"annotations\": [\n",
    "    {\n",
    "      \"x\": 0.225, \n",
    "      \"y\": 1.0, \n",
    "      \"font\": {\"size\": 16}, \n",
    "      \"text\": \"Train / valid losses\", \n",
    "      \"xref\": \"paper\", \n",
    "      \"yref\": \"paper\", \n",
    "      \"xanchor\": \"center\", \n",
    "      \"yanchor\": \"bottom\", \n",
    "      \"showarrow\": False\n",
    "    }, \n",
    "    {\n",
    "      \"x\": 0.775, \n",
    "      \"y\": 1.0, \n",
    "      \"font\": {\"size\": 16}, \n",
    "      \"text\": \"Validation scores\", \n",
    "      \"xref\": \"paper\", \n",
    "      \"yref\": \"paper\", \n",
    "      \"xanchor\": \"center\", \n",
    "      \"yanchor\": \"bottom\", \n",
    "      \"showarrow\": False\n",
    "    }, \n",
    "  ]\n",
    "})\n",
    "\n",
    "fig.show()"
   ]
  },
  {
   "cell_type": "code",
   "execution_count": null,
   "metadata": {
    "papermill": {
     "duration": 0.027802,
     "end_time": "2020-11-20T11:00:03.682654",
     "exception": false,
     "start_time": "2020-11-20T11:00:03.654852",
     "status": "completed"
    },
    "tags": []
   },
   "outputs": [],
   "source": []
  }
 ],
 "metadata": {
  "kernelspec": {
   "display_name": "Python(lyft_kaggle)",
   "language": "python",
   "name": "lyft"
  },
  "language_info": {
   "codemirror_mode": {
    "name": "ipython",
    "version": 3
   },
   "file_extension": ".py",
   "mimetype": "text/x-python",
   "name": "python",
   "nbconvert_exporter": "python",
   "pygments_lexer": "ipython3",
   "version": "3.6.12"
  },
  "papermill": {
   "duration": 11434.870536,
   "end_time": "2020-11-20T11:00:04.331299",
   "environment_variables": {},
   "exception": null,
   "input_path": "__notebook__.ipynb",
   "output_path": "__notebook__.ipynb",
   "parameters": {},
   "start_time": "2020-11-20T07:49:29.460763",
   "version": "2.1.0"
  },
  "widgets": {
   "application/vnd.jupyter.widget-state+json": {
    "state": {
     "0f878e92d3ad4c899f6a10c52ad8697c": {
      "model_module": "@jupyter-widgets/controls",
      "model_module_version": "1.5.0",
      "model_name": "ProgressStyleModel",
      "state": {
       "_model_module": "@jupyter-widgets/controls",
       "_model_module_version": "1.5.0",
       "_model_name": "ProgressStyleModel",
       "_view_count": null,
       "_view_module": "@jupyter-widgets/base",
       "_view_module_version": "1.2.0",
       "_view_name": "StyleView",
       "bar_color": null,
       "description_width": "initial"
      }
     },
     "2fa57fc107c54bb3b2c539b2f5d86e9f": {
      "model_module": "@jupyter-widgets/controls",
      "model_module_version": "1.5.0",
      "model_name": "HBoxModel",
      "state": {
       "_dom_classes": [],
       "_model_module": "@jupyter-widgets/controls",
       "_model_module_version": "1.5.0",
       "_model_name": "HBoxModel",
       "_view_count": null,
       "_view_module": "@jupyter-widgets/controls",
       "_view_module_version": "1.5.0",
       "_view_name": "HBoxView",
       "box_style": "",
       "children": [
        "IPY_MODEL_db61c72a88b643a69f0c08d3530b11c1",
        "IPY_MODEL_a113de749ee0416a8bb456e445e2d399"
       ],
       "layout": "IPY_MODEL_bc142cd35cb54ed1a6c5630883ba703b"
      }
     },
     "41237a6558934352bbfdf22660911139": {
      "model_module": "@jupyter-widgets/controls",
      "model_module_version": "1.5.0",
      "model_name": "DescriptionStyleModel",
      "state": {
       "_model_module": "@jupyter-widgets/controls",
       "_model_module_version": "1.5.0",
       "_model_name": "DescriptionStyleModel",
       "_view_count": null,
       "_view_module": "@jupyter-widgets/base",
       "_view_module_version": "1.2.0",
       "_view_name": "StyleView",
       "description_width": ""
      }
     },
     "81ea5a6c75bb478d92b3f16b91121f2a": {
      "model_module": "@jupyter-widgets/base",
      "model_module_version": "1.2.0",
      "model_name": "LayoutModel",
      "state": {
       "_model_module": "@jupyter-widgets/base",
       "_model_module_version": "1.2.0",
       "_model_name": "LayoutModel",
       "_view_count": null,
       "_view_module": "@jupyter-widgets/base",
       "_view_module_version": "1.2.0",
       "_view_name": "LayoutView",
       "align_content": null,
       "align_items": null,
       "align_self": null,
       "border": null,
       "bottom": null,
       "display": null,
       "flex": null,
       "flex_flow": null,
       "grid_area": null,
       "grid_auto_columns": null,
       "grid_auto_flow": null,
       "grid_auto_rows": null,
       "grid_column": null,
       "grid_gap": null,
       "grid_row": null,
       "grid_template_areas": null,
       "grid_template_columns": null,
       "grid_template_rows": null,
       "height": null,
       "justify_content": null,
       "justify_items": null,
       "left": null,
       "margin": null,
       "max_height": null,
       "max_width": null,
       "min_height": null,
       "min_width": null,
       "object_fit": null,
       "object_position": null,
       "order": null,
       "overflow": null,
       "overflow_x": null,
       "overflow_y": null,
       "padding": null,
       "right": null,
       "top": null,
       "visibility": null,
       "width": null
      }
     },
     "a113de749ee0416a8bb456e445e2d399": {
      "model_module": "@jupyter-widgets/controls",
      "model_module_version": "1.5.0",
      "model_name": "HTMLModel",
      "state": {
       "_dom_classes": [],
       "_model_module": "@jupyter-widgets/controls",
       "_model_module_version": "1.5.0",
       "_model_name": "HTMLModel",
       "_view_count": null,
       "_view_module": "@jupyter-widgets/controls",
       "_view_module_version": "1.5.0",
       "_view_name": "HTMLView",
       "description": "",
       "description_tooltip": null,
       "layout": "IPY_MODEL_81ea5a6c75bb478d92b3f16b91121f2a",
       "placeholder": "​",
       "style": "IPY_MODEL_41237a6558934352bbfdf22660911139",
       "value": " 44.7M/44.7M [38:26&lt;00:00, 20.3kB/s]"
      }
     },
     "bc142cd35cb54ed1a6c5630883ba703b": {
      "model_module": "@jupyter-widgets/base",
      "model_module_version": "1.2.0",
      "model_name": "LayoutModel",
      "state": {
       "_model_module": "@jupyter-widgets/base",
       "_model_module_version": "1.2.0",
       "_model_name": "LayoutModel",
       "_view_count": null,
       "_view_module": "@jupyter-widgets/base",
       "_view_module_version": "1.2.0",
       "_view_name": "LayoutView",
       "align_content": null,
       "align_items": null,
       "align_self": null,
       "border": null,
       "bottom": null,
       "display": null,
       "flex": null,
       "flex_flow": null,
       "grid_area": null,
       "grid_auto_columns": null,
       "grid_auto_flow": null,
       "grid_auto_rows": null,
       "grid_column": null,
       "grid_gap": null,
       "grid_row": null,
       "grid_template_areas": null,
       "grid_template_columns": null,
       "grid_template_rows": null,
       "height": null,
       "justify_content": null,
       "justify_items": null,
       "left": null,
       "margin": null,
       "max_height": null,
       "max_width": null,
       "min_height": null,
       "min_width": null,
       "object_fit": null,
       "object_position": null,
       "order": null,
       "overflow": null,
       "overflow_x": null,
       "overflow_y": null,
       "padding": null,
       "right": null,
       "top": null,
       "visibility": null,
       "width": null
      }
     },
     "c5d8782b1fc24889bc017552321c873c": {
      "model_module": "@jupyter-widgets/base",
      "model_module_version": "1.2.0",
      "model_name": "LayoutModel",
      "state": {
       "_model_module": "@jupyter-widgets/base",
       "_model_module_version": "1.2.0",
       "_model_name": "LayoutModel",
       "_view_count": null,
       "_view_module": "@jupyter-widgets/base",
       "_view_module_version": "1.2.0",
       "_view_name": "LayoutView",
       "align_content": null,
       "align_items": null,
       "align_self": null,
       "border": null,
       "bottom": null,
       "display": null,
       "flex": null,
       "flex_flow": null,
       "grid_area": null,
       "grid_auto_columns": null,
       "grid_auto_flow": null,
       "grid_auto_rows": null,
       "grid_column": null,
       "grid_gap": null,
       "grid_row": null,
       "grid_template_areas": null,
       "grid_template_columns": null,
       "grid_template_rows": null,
       "height": null,
       "justify_content": null,
       "justify_items": null,
       "left": null,
       "margin": null,
       "max_height": null,
       "max_width": null,
       "min_height": null,
       "min_width": null,
       "object_fit": null,
       "object_position": null,
       "order": null,
       "overflow": null,
       "overflow_x": null,
       "overflow_y": null,
       "padding": null,
       "right": null,
       "top": null,
       "visibility": null,
       "width": null
      }
     },
     "db61c72a88b643a69f0c08d3530b11c1": {
      "model_module": "@jupyter-widgets/controls",
      "model_module_version": "1.5.0",
      "model_name": "FloatProgressModel",
      "state": {
       "_dom_classes": [],
       "_model_module": "@jupyter-widgets/controls",
       "_model_module_version": "1.5.0",
       "_model_name": "FloatProgressModel",
       "_view_count": null,
       "_view_module": "@jupyter-widgets/controls",
       "_view_module_version": "1.5.0",
       "_view_name": "ProgressView",
       "bar_style": "success",
       "description": "100%",
       "description_tooltip": null,
       "layout": "IPY_MODEL_c5d8782b1fc24889bc017552321c873c",
       "max": 46827520,
       "min": 0,
       "orientation": "horizontal",
       "style": "IPY_MODEL_0f878e92d3ad4c899f6a10c52ad8697c",
       "value": 46827520
      }
     }
    },
    "version_major": 2,
    "version_minor": 0
   }
  }
 },
 "nbformat": 4,
 "nbformat_minor": 4
}
